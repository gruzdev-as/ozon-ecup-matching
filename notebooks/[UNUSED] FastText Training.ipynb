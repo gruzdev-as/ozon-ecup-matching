{
 "cells": [
  {
   "cell_type": "code",
   "execution_count": 1,
   "metadata": {
    "execution": {
     "iopub.execute_input": "2024-08-27T08:01:01.933510Z",
     "iopub.status.busy": "2024-08-27T08:01:01.932705Z",
     "iopub.status.idle": "2024-08-27T08:01:16.040097Z",
     "shell.execute_reply": "2024-08-27T08:01:16.039390Z",
     "shell.execute_reply.started": "2024-08-27T06:49:43.889472Z"
    },
    "papermill": {
     "duration": 14.137393,
     "end_time": "2024-08-27T08:01:16.040250",
     "exception": false,
     "start_time": "2024-08-27T08:01:01.902857",
     "status": "completed"
    },
    "tags": []
   },
   "outputs": [
    {
     "name": "stdout",
     "output_type": "stream",
     "text": [
      "Collecting pymorphy2\r\n",
      "  Downloading pymorphy2-0.9.1-py3-none-any.whl (55 kB)\r\n",
      "\u001b[K     |████████████████████████████████| 55 kB 911 kB/s \r\n",
      "\u001b[?25hCollecting dawg-python>=0.7.1\r\n",
      "  Downloading DAWG_Python-0.7.2-py2.py3-none-any.whl (11 kB)\r\n",
      "Requirement already satisfied: docopt>=0.6 in /opt/conda/lib/python3.7/site-packages (from pymorphy2) (0.6.2)\r\n",
      "Collecting pymorphy2-dicts-ru<3.0,>=2.4\r\n",
      "  Downloading pymorphy2_dicts_ru-2.4.417127.4579844-py2.py3-none-any.whl (8.2 MB)\r\n",
      "\u001b[K     |████████████████████████████████| 8.2 MB 2.6 MB/s \r\n",
      "\u001b[?25hInstalling collected packages: dawg-python, pymorphy2-dicts-ru, pymorphy2\r\n",
      "Successfully installed dawg-python-0.7.2 pymorphy2-0.9.1 pymorphy2-dicts-ru-2.4.417127.4579844\r\n",
      "\u001b[33mWARNING: You are using pip version 20.2.3; however, version 24.0 is available.\r\n",
      "You should consider upgrading via the '/opt/conda/bin/python3.7 -m pip install --upgrade pip' command.\u001b[0m\r\n",
      "--2024-08-27 08:01:15--  https://files.pythonhosted.org/packages/b2/b4/732ff6eeac8c9ea22e7e1c7a321b21b6f3ba19d5e0a8925f35da9c8ebbb2/pymorphy2-dicts-ru-2.4.404381.4453942.tar.gz\r\n",
      "Resolving files.pythonhosted.org (files.pythonhosted.org)... 199.232.96.223, 2a04:4e42:2000::223, 2a04:4e42:3000::223, ...\r\n",
      "Connecting to files.pythonhosted.org (files.pythonhosted.org)|199.232.96.223|:443... connected.\r\n",
      "HTTP request sent, awaiting response... 200 OK\r\n",
      "Length: 7934073 (7.6M) [binary/octet-stream]\r\n",
      "Saving to: ‘pymorphy2-dicts-ru.tar.gz’\r\n",
      "\r\n",
      "pymorphy2-dicts-ru. 100%[===================>]   7.57M  21.7MB/s    in 0.3s    \r\n",
      "\r\n",
      "2024-08-27 08:01:15 (21.7 MB/s) - ‘pymorphy2-dicts-ru.tar.gz’ saved [7934073/7934073]\r\n",
      "\r\n"
     ]
    }
   ],
   "source": [
    "!pip install pymorphy2\n",
    "!wget -O pymorphy2-dicts-ru.tar.gz https://files.pythonhosted.org/packages/b2/b4/732ff6eeac8c9ea22e7e1c7a321b21b6f3ba19d5e0a8925f35da9c8ebbb2/pymorphy2-dicts-ru-2.4.404381.4453942.tar.gz"
   ]
  },
  {
   "cell_type": "code",
   "execution_count": 2,
   "metadata": {
    "_cell_guid": "79c7e3d0-c299-4dcb-8224-4455121ee9b0",
    "_uuid": "d629ff2d2480ee46fbb7e2d37f6b5fab8052498a",
    "execution": {
     "iopub.execute_input": "2024-08-27T08:01:16.113625Z",
     "iopub.status.busy": "2024-08-27T08:01:16.112798Z",
     "iopub.status.idle": "2024-08-27T08:01:18.079238Z",
     "shell.execute_reply": "2024-08-27T08:01:18.078476Z",
     "shell.execute_reply.started": "2024-08-27T06:49:58.325631Z"
    },
    "papermill": {
     "duration": 2.007095,
     "end_time": "2024-08-27T08:01:18.079367",
     "exception": false,
     "start_time": "2024-08-27T08:01:16.072272",
     "status": "completed"
    },
    "tags": []
   },
   "outputs": [],
   "source": [
    "import pickle\n",
    "import pandas as pd\n",
    "import tarfile\n",
    "import gc\n",
    "import ast\n",
    "import re\n",
    "\n",
    "from tqdm import tqdm\n",
    "from multiprocessing import Pool\n",
    "\n",
    "from string import punctuation\n",
    "\n",
    "import fasttext\n",
    "import pymorphy2\n",
    "\n",
    "from nltk.tokenize import word_tokenize\n",
    "from nltk.corpus import stopwords"
   ]
  },
  {
   "cell_type": "code",
   "execution_count": 3,
   "metadata": {
    "execution": {
     "iopub.execute_input": "2024-08-27T08:01:18.151895Z",
     "iopub.status.busy": "2024-08-27T08:01:18.151023Z",
     "iopub.status.idle": "2024-08-27T08:01:18.157113Z",
     "shell.execute_reply": "2024-08-27T08:01:18.156472Z",
     "shell.execute_reply.started": "2024-08-27T06:50:00.829798Z"
    },
    "papermill": {
     "duration": 0.047369,
     "end_time": "2024-08-27T08:01:18.157245",
     "exception": false,
     "start_time": "2024-08-27T08:01:18.109876",
     "status": "completed"
    },
    "tags": []
   },
   "outputs": [],
   "source": [
    "TRAIN_MODEL = True\n",
    "PREPROCESS_DATA = not TRAIN_MODEL"
   ]
  },
  {
   "cell_type": "code",
   "execution_count": 4,
   "metadata": {
    "execution": {
     "iopub.execute_input": "2024-08-27T08:01:18.227090Z",
     "iopub.status.busy": "2024-08-27T08:01:18.226282Z",
     "iopub.status.idle": "2024-08-27T08:01:18.501293Z",
     "shell.execute_reply": "2024-08-27T08:01:18.500587Z",
     "shell.execute_reply.started": "2024-08-27T06:50:00.845917Z"
    },
    "papermill": {
     "duration": 0.313234,
     "end_time": "2024-08-27T08:01:18.501427",
     "exception": false,
     "start_time": "2024-08-27T08:01:18.188193",
     "status": "completed"
    },
    "tags": []
   },
   "outputs": [],
   "source": [
    "stop = stopwords.words('russian')\n",
    "punkt = [p for p in punctuation] + [\"`\", \"``\" , \"''\", \"'\"]\n",
    "\n",
    "rudict = tarfile.open('./pymorphy2-dicts-ru.tar.gz')\n",
    "rudict.extractall()\n",
    "rudict.close()\n",
    "\n",
    "lemmatizer = pymorphy2.MorphAnalyzer(\n",
    "    path='./pymorphy2-dicts-ru-2.4.404381.4453942/pymorphy2_dicts_ru/data', \n",
    "    lang='ru'\n",
    ")"
   ]
  },
  {
   "cell_type": "code",
   "execution_count": 5,
   "metadata": {
    "execution": {
     "iopub.execute_input": "2024-08-27T08:01:18.572770Z",
     "iopub.status.busy": "2024-08-27T08:01:18.571552Z",
     "iopub.status.idle": "2024-08-27T08:02:00.614181Z",
     "shell.execute_reply": "2024-08-27T08:02:00.613426Z",
     "shell.execute_reply.started": "2024-08-27T06:50:01.149035Z"
    },
    "papermill": {
     "duration": 42.081669,
     "end_time": "2024-08-27T08:02:00.614320",
     "exception": false,
     "start_time": "2024-08-27T08:01:18.532651",
     "status": "completed"
    },
    "tags": []
   },
   "outputs": [],
   "source": [
    "text_and_bert = pd.read_parquet(\n",
    "    '/kaggle/input/extracted_data/text_and_bert.parquet', \n",
    "    columns=['name', 'description'], \n",
    "    engine='pyarrow'\n",
    ")\n",
    "\n",
    "attrs = pd.read_parquet(\n",
    "    '/kaggle/input/extracted_data/attributes.parquet', \n",
    "    columns=['variantid', 'categories'], \n",
    "    engine='pyarrow'\n",
    ")\n",
    "\n",
    "train_pairs = pd.read_parquet(\n",
    "    '/kaggle/input/extracted_data/train.parquet', \n",
    "    engine='pyarrow'\n",
    ")"
   ]
  },
  {
   "cell_type": "code",
   "execution_count": 6,
   "metadata": {
    "execution": {
     "iopub.execute_input": "2024-08-27T08:02:00.683924Z",
     "iopub.status.busy": "2024-08-27T08:02:00.683039Z",
     "iopub.status.idle": "2024-08-27T08:02:01.061342Z",
     "shell.execute_reply": "2024-08-27T08:02:01.062276Z",
     "shell.execute_reply.started": "2024-08-27T06:50:40.642013Z"
    },
    "papermill": {
     "duration": 0.416628,
     "end_time": "2024-08-27T08:02:01.062463",
     "exception": false,
     "start_time": "2024-08-27T08:02:00.645835",
     "status": "completed"
    },
    "tags": []
   },
   "outputs": [
    {
     "data": {
      "text/plain": [
       "28"
      ]
     },
     "execution_count": 6,
     "metadata": {},
     "output_type": "execute_result"
    }
   ],
   "source": [
    "data = pd.concat([attrs, text_and_bert], axis=1)\n",
    "\n",
    "del text_and_bert, attrs\n",
    "gc.collect()"
   ]
  },
  {
   "cell_type": "code",
   "execution_count": 7,
   "metadata": {
    "execution": {
     "iopub.execute_input": "2024-08-27T08:02:01.137458Z",
     "iopub.status.busy": "2024-08-27T08:02:01.136092Z",
     "iopub.status.idle": "2024-08-27T08:03:48.279194Z",
     "shell.execute_reply": "2024-08-27T08:03:48.279887Z",
     "shell.execute_reply.started": "2024-08-27T06:50:41.026810Z"
    },
    "papermill": {
     "duration": 107.185488,
     "end_time": "2024-08-27T08:03:48.280094",
     "exception": false,
     "start_time": "2024-08-27T08:02:01.094606",
     "status": "completed"
    },
    "tags": []
   },
   "outputs": [],
   "source": [
    "def extract_categories(df: pd.DataFrame) -> pd.DataFrame:\n",
    "    categories = pd.json_normalize(df['categories'].apply(ast.literal_eval))\n",
    "    categories.columns = [f'category_level_{i+1}' for i in range(categories.shape[1])]\n",
    "    return df.drop(columns=['categories']).join(categories)\n",
    "\n",
    "data = extract_categories(data)"
   ]
  },
  {
   "cell_type": "code",
   "execution_count": 8,
   "metadata": {
    "execution": {
     "iopub.execute_input": "2024-08-27T08:03:48.350653Z",
     "iopub.status.busy": "2024-08-27T08:03:48.349841Z",
     "iopub.status.idle": "2024-08-27T08:03:58.269865Z",
     "shell.execute_reply": "2024-08-27T08:03:58.269043Z",
     "shell.execute_reply.started": "2024-08-27T06:52:29.877339Z"
    },
    "papermill": {
     "duration": 9.95872,
     "end_time": "2024-08-27T08:03:58.270004",
     "exception": false,
     "start_time": "2024-08-27T08:03:48.311284",
     "status": "completed"
    },
    "tags": []
   },
   "outputs": [],
   "source": [
    "train_pairs.rename(\n",
    "    columns={\n",
    "        'variantid1': 'variantid_1',\n",
    "        'variantid2': 'variantid_2'\n",
    "    }, inplace=True\n",
    ")\n",
    "\n",
    "train_df = train_pairs.merge(\n",
    "    data.add_suffix('_1'), \n",
    "    on='variantid_1'\n",
    ").merge(\n",
    "    data.add_suffix('_2'), \n",
    "    on='variantid_2'\n",
    ")\n",
    "\n",
    "train_df['category_level_2'] = train_df['category_level_2_1']"
   ]
  },
  {
   "cell_type": "code",
   "execution_count": 9,
   "metadata": {
    "execution": {
     "iopub.execute_input": "2024-08-27T08:03:58.343881Z",
     "iopub.status.busy": "2024-08-27T08:03:58.343046Z",
     "iopub.status.idle": "2024-08-27T08:04:22.702105Z",
     "shell.execute_reply": "2024-08-27T08:04:22.701261Z",
     "shell.execute_reply.started": "2024-08-27T06:53:01.938597Z"
    },
    "papermill": {
     "duration": 24.401212,
     "end_time": "2024-08-27T08:04:22.702244",
     "exception": false,
     "start_time": "2024-08-27T08:03:58.301032",
     "status": "completed"
    },
    "tags": []
   },
   "outputs": [],
   "source": [
    "train_df['text'] = (\n",
    "    train_df['category_level_2'].astype(str) + \"  __SEP__ \" +\n",
    "    \"Первый товар: \" + train_df['name_1'].astype(str) + \", \" +\n",
    "    train_df['category_level_3_1'].astype(str) + \", \" +\n",
    "    train_df['category_level_4_1'].astype(str) + \", \" +\n",
    "    train_df['description_1'].astype(str).apply(lambda s: s[:1000]) + \"  __SEP__ \" +\n",
    "    \"Второй товар: \" + train_df['name_2'].astype(str) + \", \" +\n",
    "    train_df['category_level_3_2'].astype(str) + \", \" +\n",
    "    train_df['category_level_4_2'].astype(str) + \", \" +\n",
    "    train_df['description_2'].astype(str).apply(lambda s: s[:1000])\n",
    ")\n",
    "\n",
    "text = train_df['text']\n",
    "target = train_df['target']"
   ]
  },
  {
   "cell_type": "code",
   "execution_count": 10,
   "metadata": {
    "execution": {
     "iopub.execute_input": "2024-08-27T08:04:23.311403Z",
     "iopub.status.busy": "2024-08-27T08:04:23.310325Z",
     "iopub.status.idle": "2024-08-27T08:04:23.315279Z",
     "shell.execute_reply": "2024-08-27T08:04:23.314523Z",
     "shell.execute_reply.started": "2024-08-27T06:53:26.912341Z"
    },
    "papermill": {
     "duration": 0.57661,
     "end_time": "2024-08-27T08:04:23.315411",
     "exception": false,
     "start_time": "2024-08-27T08:04:22.738801",
     "status": "completed"
    },
    "tags": []
   },
   "outputs": [
    {
     "data": {
      "text/plain": [
       "516"
      ]
     },
     "execution_count": 10,
     "metadata": {},
     "output_type": "execute_result"
    }
   ],
   "source": [
    "del train_df\n",
    "gc.collect()"
   ]
  },
  {
   "cell_type": "code",
   "execution_count": 11,
   "metadata": {
    "execution": {
     "iopub.execute_input": "2024-08-27T08:04:23.461542Z",
     "iopub.status.busy": "2024-08-27T08:04:23.424775Z",
     "iopub.status.idle": "2024-08-27T08:06:20.003359Z",
     "shell.execute_reply": "2024-08-27T08:06:20.002295Z",
     "shell.execute_reply.started": "2024-08-27T06:53:27.438065Z"
    },
    "papermill": {
     "duration": 116.655266,
     "end_time": "2024-08-27T08:06:20.003613",
     "exception": false,
     "start_time": "2024-08-27T08:04:23.348347",
     "status": "completed"
    },
    "tags": []
   },
   "outputs": [],
   "source": [
    "def remove_html_tags_and_emoji(text):\n",
    "    if text is None:\n",
    "        return None\n",
    "    clean = re.compile('<.*?>')\n",
    "    text = re.sub(clean, '', text)\n",
    "    text = text.replace('\\n', ' ')\n",
    "    emoji_pattern = re.compile(\"[\"\n",
    "                               u\"\\U0001F600-\\U0001F64F\"\n",
    "                               u\"\\U0001F300-\\U0001F5FF\"\n",
    "                               u\"\\U0001F680-\\U0001F6FF\"\n",
    "                               u\"\\U0001F1E0-\\U0001F1FF\"\n",
    "                               \"]+\", flags=re.UNICODE)\n",
    "    return emoji_pattern.sub(r'', text)\n",
    "\n",
    "text = [remove_html_tags_and_emoji(t) for t in text]\n",
    "target = target.tolist()"
   ]
  },
  {
   "cell_type": "code",
   "execution_count": 12,
   "metadata": {
    "execution": {
     "iopub.execute_input": "2024-08-27T08:06:20.197011Z",
     "iopub.status.busy": "2024-08-27T08:06:20.146074Z",
     "iopub.status.idle": "2024-08-27T08:06:20.294613Z",
     "shell.execute_reply": "2024-08-27T08:06:20.293752Z",
     "shell.execute_reply.started": "2024-08-27T06:55:25.453254Z"
    },
    "papermill": {
     "duration": 0.258716,
     "end_time": "2024-08-27T08:06:20.294756",
     "exception": false,
     "start_time": "2024-08-27T08:06:20.036040",
     "status": "completed"
    },
    "tags": []
   },
   "outputs": [],
   "source": [
    "def tokenize(sent):\n",
    "    try:\n",
    "        sent = word_tokenize(sent)\n",
    "        return [word for word in sent if word not in stop and word not in punkt]\n",
    "    except:\n",
    "        return []\n",
    "\n",
    "def lemmatize(sent):\n",
    "    try:\n",
    "        return ' '.join([lemmatizer.normal_forms(word)[0] for word in sent])\n",
    "    except:\n",
    "        return ' '\n",
    "\n",
    "def preprocess_sent(sent):\n",
    "    return lemmatize(tokenize(sent))"
   ]
  },
  {
   "cell_type": "code",
   "execution_count": 13,
   "metadata": {
    "execution": {
     "iopub.execute_input": "2024-08-27T08:06:20.367250Z",
     "iopub.status.busy": "2024-08-27T08:06:20.366141Z",
     "iopub.status.idle": "2024-08-27T08:06:20.369913Z",
     "shell.execute_reply": "2024-08-27T08:06:20.369230Z",
     "shell.execute_reply.started": "2024-08-27T06:55:25.619116Z"
    },
    "papermill": {
     "duration": 0.04304,
     "end_time": "2024-08-27T08:06:20.370052",
     "exception": false,
     "start_time": "2024-08-27T08:06:20.327012",
     "status": "completed"
    },
    "tags": []
   },
   "outputs": [],
   "source": [
    "if PREPROCESS_DATA:\n",
    "    with Pool(16) as p:\n",
    "        titles_preprocessed = list(\n",
    "            tqdm(\n",
    "                p.imap(\n",
    "                    preprocess_sent, \n",
    "                    text\n",
    "                ),\n",
    "                total=len(text)\n",
    "            )\n",
    "        )\n",
    "        \n",
    "    with open('titles_preprocessed.pkl', 'wb') as write_titles:\n",
    "        pickle.dump(titles_preprocessed, write_titles)"
   ]
  },
  {
   "cell_type": "code",
   "execution_count": 14,
   "metadata": {
    "execution": {
     "iopub.execute_input": "2024-08-27T08:06:20.508239Z",
     "iopub.status.busy": "2024-08-27T08:06:20.507376Z",
     "iopub.status.idle": "2024-08-27T08:44:59.136680Z",
     "shell.execute_reply": "2024-08-27T08:44:59.135152Z",
     "shell.execute_reply.started": "2024-08-27T06:55:25.633918Z"
    },
    "papermill": {
     "duration": 2318.735418,
     "end_time": "2024-08-27T08:44:59.137040",
     "exception": false,
     "start_time": "2024-08-27T08:06:20.401622",
     "status": "completed"
    },
    "tags": []
   },
   "outputs": [],
   "source": [
    "if TRAIN_MODEL:\n",
    "    with open('/kaggle/input/fasttext-ozon/titles_preprocessed.pkl', 'rb') as file: \n",
    "        titles_preprocessed = pickle.load(file) \n",
    "\n",
    "    test_indices = pd.read_csv('/kaggle/input/test-indices/index.csv')['0'].tolist()\n",
    "    \n",
    "    title_train = [title for i, title in enumerate(titles_preprocessed) if i not in test_indices]\n",
    "    y_train = [y for i, y in enumerate(target) if i not in test_indices]\n",
    "    \n",
    "    title_test = [titles_preprocessed[i] for i in test_indices]\n",
    "    y_test = [target[i] for i in test_indices]\n",
    "    \n",
    "    del titles_preprocessed, test_indices, target\n",
    "    gc.collect()\n",
    "    \n",
    "    with open('train_data_titles.txt', 'w+', encoding='utf-8') as tr:\n",
    "        for idx in range(len(title_train)):\n",
    "            tr.write('__label__' + str(y_train[idx]) + ' ' + title_train[idx] + '\\n')\n",
    "\n",
    "    with open('test_data_titles.txt', 'w+', encoding='utf-8') as te:\n",
    "        for idx in range(len(title_test)):\n",
    "            te.write('__label__' + str(y_test[idx]) + ' ' + title_test[idx] + '\\n')      \n",
    "\n",
    "    ft_model = fasttext.train_supervised(input='train_data_titles.txt') # юзать тест для оптимизиации\n",
    "    ft_model.save_model('fast_ozon.model')"
   ]
  },
  {
   "cell_type": "code",
   "execution_count": 15,
   "metadata": {
    "execution": {
     "iopub.execute_input": "2024-08-27T08:44:59.218333Z",
     "iopub.status.busy": "2024-08-27T08:44:59.217475Z",
     "iopub.status.idle": "2024-08-27T08:44:59.220905Z",
     "shell.execute_reply": "2024-08-27T08:44:59.219994Z",
     "shell.execute_reply.started": "2024-08-27T07:46:45.915143Z"
    },
    "papermill": {
     "duration": 0.046015,
     "end_time": "2024-08-27T08:44:59.221051",
     "exception": false,
     "start_time": "2024-08-27T08:44:59.175036",
     "status": "completed"
    },
    "tags": []
   },
   "outputs": [],
   "source": [
    "def get_prediction_w_preprocess(text):\n",
    "    return int(ft_model.predict(preprocess_sent(text))[0][0][-1])\n",
    "\n",
    "def get_prediction(text):\n",
    "    return int(ft_model.predict(text)[0][0][-1])"
   ]
  },
  {
   "cell_type": "code",
   "execution_count": 16,
   "metadata": {
    "execution": {
     "iopub.execute_input": "2024-08-27T08:44:59.294313Z",
     "iopub.status.busy": "2024-08-27T08:44:59.293453Z",
     "iopub.status.idle": "2024-08-27T08:45:03.676001Z",
     "shell.execute_reply": "2024-08-27T08:45:03.675214Z",
     "shell.execute_reply.started": "2024-08-27T07:57:39.391381Z"
    },
    "papermill": {
     "duration": 4.422937,
     "end_time": "2024-08-27T08:45:03.676133",
     "exception": false,
     "start_time": "2024-08-27T08:44:59.253196",
     "status": "completed"
    },
    "tags": []
   },
   "outputs": [
    {
     "name": "stderr",
     "output_type": "stream",
     "text": [
      "100%|██████████| 50000/50000 [00:04<00:00, 11427.60it/s]\n"
     ]
    }
   ],
   "source": [
    "test_preds = []\n",
    "for text in tqdm(title_test):\n",
    "    test_preds.append(get_prediction(text))"
   ]
  },
  {
   "cell_type": "code",
   "execution_count": 17,
   "metadata": {
    "execution": {
     "iopub.execute_input": "2024-08-27T08:45:03.806975Z",
     "iopub.status.busy": "2024-08-27T08:45:03.805802Z",
     "iopub.status.idle": "2024-08-27T08:45:03.847249Z",
     "shell.execute_reply": "2024-08-27T08:45:03.846462Z",
     "shell.execute_reply.started": "2024-08-27T07:57:44.255012Z"
    },
    "papermill": {
     "duration": 0.121406,
     "end_time": "2024-08-27T08:45:03.847377",
     "exception": false,
     "start_time": "2024-08-27T08:45:03.725971",
     "status": "completed"
    },
    "tags": []
   },
   "outputs": [
    {
     "name": "stdout",
     "output_type": "stream",
     "text": [
      "PR AUC: 0.7922310662860605\n"
     ]
    }
   ],
   "source": [
    "from sklearn.metrics import precision_recall_curve, auc\n",
    "\n",
    "precision, recall, thresholds = precision_recall_curve(y_test, test_preds)\n",
    "pr_auc = auc(recall, precision)\n",
    "\n",
    "print(f\"PR AUC: {pr_auc}\")"
   ]
  },
  {
   "cell_type": "code",
   "execution_count": 18,
   "metadata": {
    "execution": {
     "iopub.execute_input": "2024-08-27T08:45:03.951837Z",
     "iopub.status.busy": "2024-08-27T08:45:03.950483Z",
     "iopub.status.idle": "2024-08-27T08:45:03.953974Z",
     "shell.execute_reply": "2024-08-27T08:45:03.953301Z",
     "shell.execute_reply.started": "2024-08-27T07:57:23.414860Z"
    },
    "papermill": {
     "duration": 0.057311,
     "end_time": "2024-08-27T08:45:03.954101",
     "exception": false,
     "start_time": "2024-08-27T08:45:03.896790",
     "status": "completed"
    },
    "tags": []
   },
   "outputs": [],
   "source": [
    "# from concurrent.futures import ThreadPoolExecutor\n",
    "\n",
    "# test_preds_parallel = []\n",
    "# with ThreadPoolExecutor() as executor:\n",
    "#     futures = [executor.submit(get_prediction, text) for text in title_test]\n",
    "#     for future in tqdm(futures):\n",
    "#         test_preds_parallel.append(future.result())"
   ]
  }
 ],
 "metadata": {
  "kaggle": {
   "accelerator": "none",
   "dataSources": [
    {
     "datasetId": 5565627,
     "sourceId": 9205012,
     "sourceType": "datasetVersion"
    },
    {
     "datasetId": 5597033,
     "sourceId": 9251422,
     "sourceType": "datasetVersion"
    },
    {
     "datasetId": 5600057,
     "sourceId": 9255998,
     "sourceType": "datasetVersion"
    }
   ],
   "dockerImageVersionId": 30014,
   "isGpuEnabled": false,
   "isInternetEnabled": true,
   "language": "python",
   "sourceType": "notebook"
  },
  "kernelspec": {
   "display_name": "Python 3",
   "language": "python",
   "name": "python3"
  },
  "language_info": {
   "codemirror_mode": {
    "name": "ipython",
    "version": 3
   },
   "file_extension": ".py",
   "mimetype": "text/x-python",
   "name": "python",
   "nbconvert_exporter": "python",
   "pygments_lexer": "ipython3",
   "version": "3.7.6"
  },
  "papermill": {
   "duration": 2648.753924,
   "end_time": "2024-08-27T08:45:05.760064",
   "environment_variables": {},
   "exception": null,
   "input_path": "__notebook__.ipynb",
   "output_path": "__notebook__.ipynb",
   "parameters": {},
   "start_time": "2024-08-27T08:00:57.006140",
   "version": "2.1.0"
  }
 },
 "nbformat": 4,
 "nbformat_minor": 4
}

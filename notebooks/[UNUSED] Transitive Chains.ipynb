{
 "cells": [
  {
   "cell_type": "code",
   "execution_count": 1,
   "id": "5afec21a",
   "metadata": {
    "_cell_guid": "b1076dfc-b9ad-4769-8c92-a6c4dae69d19",
    "_uuid": "8f2839f25d086af736a60e9eeb907d3b93b6e0e5",
    "execution": {
     "iopub.execute_input": "2024-08-29T10:42:03.271611Z",
     "iopub.status.busy": "2024-08-29T10:42:03.271194Z",
     "iopub.status.idle": "2024-08-29T10:42:04.585206Z",
     "shell.execute_reply": "2024-08-29T10:42:04.584094Z"
    },
    "papermill": {
     "duration": 1.321138,
     "end_time": "2024-08-29T10:42:04.587797",
     "exception": false,
     "start_time": "2024-08-29T10:42:03.266659",
     "status": "completed"
    },
    "tags": []
   },
   "outputs": [],
   "source": [
    "import pandas as pd\n",
    "import networkx as nx"
   ]
  },
  {
   "cell_type": "code",
   "execution_count": 2,
   "id": "f488cfaa",
   "metadata": {
    "execution": {
     "iopub.execute_input": "2024-08-29T10:42:04.594364Z",
     "iopub.status.busy": "2024-08-29T10:42:04.593777Z",
     "iopub.status.idle": "2024-08-29T10:42:04.913662Z",
     "shell.execute_reply": "2024-08-29T10:42:04.912448Z"
    },
    "papermill": {
     "duration": 0.325896,
     "end_time": "2024-08-29T10:42:04.916261",
     "exception": false,
     "start_time": "2024-08-29T10:42:04.590365",
     "status": "completed"
    },
    "tags": []
   },
   "outputs": [],
   "source": [
    "train_pairs = pd.read_parquet('/kaggle/input/extracted_data/train.parquet')"
   ]
  },
  {
   "cell_type": "code",
   "execution_count": 3,
   "id": "56c3b797",
   "metadata": {
    "execution": {
     "iopub.execute_input": "2024-08-29T10:42:04.922722Z",
     "iopub.status.busy": "2024-08-29T10:42:04.922346Z",
     "iopub.status.idle": "2024-08-29T10:42:04.931461Z",
     "shell.execute_reply": "2024-08-29T10:42:04.930304Z"
    },
    "papermill": {
     "duration": 0.014638,
     "end_time": "2024-08-29T10:42:04.933485",
     "exception": false,
     "start_time": "2024-08-29T10:42:04.918847",
     "status": "completed"
    },
    "tags": []
   },
   "outputs": [],
   "source": [
    "def apply_transitivity_with_networkx(df):\n",
    "    G = nx.Graph()\n",
    "\n",
    "    edges = df[df['target'] == 1][['variantid1', 'variantid2']].values\n",
    "    G.add_edges_from(edges)\n",
    "\n",
    "    transitive_closure = set()\n",
    "    for component in nx.connected_components(G):\n",
    "        component = list(component)\n",
    "        for i in range(len(component)):\n",
    "            for j in range(i + 1, len(component)):\n",
    "                transitive_closure.add((component[i], component[j]))\n",
    "\n",
    "    new_rows = pd.DataFrame(list(transitive_closure), columns=['variantid1', 'variantid2'])\n",
    "    new_rows['target'] = 1\n",
    "    new_rows[['variantid1', 'variantid2']] = new_rows[['variantid1', 'variantid2']].apply(lambda x: sorted(x), axis=1, result_type='expand')\n",
    "\n",
    "    df_expanded = pd.concat([df, new_rows], ignore_index=True)\n",
    "    df_expanded = df_expanded.drop_duplicates(subset=['variantid1', 'variantid2', 'target'], keep='first')\n",
    "\n",
    "    return df_expanded"
   ]
  },
  {
   "cell_type": "code",
   "execution_count": 4,
   "id": "9844104f",
   "metadata": {
    "execution": {
     "iopub.execute_input": "2024-08-29T10:42:04.940033Z",
     "iopub.status.busy": "2024-08-29T10:42:04.939373Z",
     "iopub.status.idle": "2024-08-29T10:42:35.078049Z",
     "shell.execute_reply": "2024-08-29T10:42:35.076933Z"
    },
    "papermill": {
     "duration": 30.144914,
     "end_time": "2024-08-29T10:42:35.080717",
     "exception": false,
     "start_time": "2024-08-29T10:42:04.935803",
     "status": "completed"
    },
    "tags": []
   },
   "outputs": [],
   "source": [
    "df_expanded = apply_transitivity_with_networkx(train_pairs)"
   ]
  },
  {
   "cell_type": "code",
   "execution_count": 5,
   "id": "86c8c6a4",
   "metadata": {
    "execution": {
     "iopub.execute_input": "2024-08-29T10:42:35.086886Z",
     "iopub.status.busy": "2024-08-29T10:42:35.086513Z",
     "iopub.status.idle": "2024-08-29T10:42:35.538679Z",
     "shell.execute_reply": "2024-08-29T10:42:35.537297Z"
    },
    "papermill": {
     "duration": 0.458261,
     "end_time": "2024-08-29T10:42:35.541362",
     "exception": false,
     "start_time": "2024-08-29T10:42:35.083101",
     "status": "completed"
    },
    "tags": []
   },
   "outputs": [],
   "source": [
    "df_expanded.to_parquet('train_with_chains.parquet')"
   ]
  }
 ],
 "metadata": {
  "kaggle": {
   "accelerator": "none",
   "dataSources": [
    {
     "datasetId": 5565627,
     "sourceId": 9205012,
     "sourceType": "datasetVersion"
    }
   ],
   "dockerImageVersionId": 30761,
   "isGpuEnabled": false,
   "isInternetEnabled": true,
   "language": "python",
   "sourceType": "notebook"
  },
  "kernelspec": {
   "display_name": "Python 3",
   "language": "python",
   "name": "python3"
  },
  "language_info": {
   "codemirror_mode": {
    "name": "ipython",
    "version": 3
   },
   "file_extension": ".py",
   "mimetype": "text/x-python",
   "name": "python",
   "nbconvert_exporter": "python",
   "pygments_lexer": "ipython3",
   "version": "3.10.14"
  },
  "papermill": {
   "default_parameters": {},
   "duration": 35.534487,
   "end_time": "2024-08-29T10:42:36.064020",
   "environment_variables": {},
   "exception": null,
   "input_path": "__notebook__.ipynb",
   "output_path": "__notebook__.ipynb",
   "parameters": {},
   "start_time": "2024-08-29T10:42:00.529533",
   "version": "2.6.0"
  }
 },
 "nbformat": 4,
 "nbformat_minor": 5
}
